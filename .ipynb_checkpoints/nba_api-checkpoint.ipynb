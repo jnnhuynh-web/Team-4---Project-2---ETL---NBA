{
 "cells": [
  {
   "cell_type": "code",
   "execution_count": 1,
   "metadata": {},
   "outputs": [],
   "source": [
    "import pandas as pd\n",
    "from sqlalchemy import create_engine\n",
    "from datetime import datetime"
   ]
  },
  {
   "cell_type": "markdown",
   "metadata": {},
   "source": [
    "# Extract data from APIs and store into DataFrames"
   ]
  },
  {
   "cell_type": "code",
   "execution_count": 2,
   "metadata": {},
   "outputs": [],
   "source": [
    "# Pull data from Players API\n",
    "\n",
    "from nba_api.stats.static import players\n",
    "\n",
    "players = players.get_players()\n",
    "df_players = pd.DataFrame(players)\n",
    "df_players.to_csv('./Resources/players.csv')"
   ]
  },
  {
   "cell_type": "code",
   "execution_count": 3,
   "metadata": {},
   "outputs": [],
   "source": [
    "# Pull data from Teams API\n",
    "\n",
    "from nba_api.stats.static import teams\n",
    "\n",
    "teams = teams.get_teams()\n",
    "df_teams = pd.DataFrame(teams)\n",
    "df_teams.to_csv('./Resources/teams.csv')"
   ]
  },
  {
   "cell_type": "code",
   "execution_count": 4,
   "metadata": {},
   "outputs": [],
   "source": [
    "# Teams and Players"
   ]
  },
  {
   "cell_type": "code",
   "execution_count": 5,
   "metadata": {},
   "outputs": [],
   "source": [
    "# Filter only the active players\n",
    "df_act_players = df_players[df_players['is_active'] == True]"
   ]
  },
  {
   "cell_type": "code",
   "execution_count": 6,
   "metadata": {},
   "outputs": [],
   "source": [
    "#df_act_players_List = df_act_players[df_act_players['id'].isin ([201566, 201939, 2544, 202681, 200768])]\n",
    "#df_act_players_List.count()"
   ]
  },
  {
   "cell_type": "code",
   "execution_count": null,
   "metadata": {},
   "outputs": [
    {
     "name": "stdout",
     "output_type": "stream",
     "text": [
      "1 2019-12-19 19:32:33.397\n",
      "2 2019-12-19 19:32:35.802\n",
      "3 2019-12-19 19:32:39.064\n",
      "4 2019-12-19 19:32:40.989\n",
      "5 2019-12-19 19:32:43.533\n",
      "6 2019-12-19 19:32:46.879\n",
      "7 2019-12-19 19:32:50.145\n",
      "8 2019-12-19 19:32:53.448\n",
      "9 2019-12-19 19:32:54.939\n",
      "10 2019-12-19 19:32:58.458\n",
      "11 2019-12-19 19:33:00.732\n",
      "12 2019-12-19 19:33:02.031\n",
      "13 2019-12-19 19:33:03.280\n",
      "14 2019-12-19 19:33:05.856\n",
      "15 2019-12-19 19:33:07.122\n",
      "16 2019-12-19 19:33:09.492\n",
      "17 2019-12-19 19:33:11.763\n",
      "18 2019-12-19 19:33:14.109\n",
      "19 2019-12-19 19:33:17.729\n",
      "20 2019-12-19 19:33:21.076\n",
      "21 2019-12-19 19:33:22.333\n",
      "22 2019-12-19 19:33:23.618\n",
      "23 2019-12-19 19:33:25.894\n",
      "24 2019-12-19 19:33:27.153\n",
      "25 2019-12-19 19:33:28.422\n",
      "26 2019-12-19 19:33:31.682\n",
      "27 2019-12-19 19:33:34.958\n",
      "28 2019-12-19 19:33:37.311\n",
      "29 2019-12-19 19:33:38.579\n",
      "30 2019-12-19 19:33:40.870\n",
      "31 2019-12-19 19:33:44.127\n",
      "32 2019-12-19 19:33:45.406\n",
      "33 2019-12-19 19:33:48.766\n",
      "34 2019-12-19 19:33:52.032\n",
      "35 2019-12-19 19:33:55.316\n",
      "36 2019-12-19 19:33:58.608\n",
      "37 2019-12-19 19:33:59.937\n",
      "38 2019-12-19 19:34:02.201\n",
      "39 2019-12-19 19:34:03.479\n",
      "40 2019-12-19 19:34:04.788\n",
      "41 2019-12-19 19:34:06.074\n"
     ]
    }
   ],
   "source": [
    "# Pull data to link team and active players for this season 2019-20\n",
    "from nba_api.stats.endpoints import commonplayerinfo\n",
    "\n",
    "df_team_player = pd.DataFrame()\n",
    "n=0\n",
    "for i, row in df_act_players.iterrows():\n",
    "    n += 1\n",
    "    info = commonplayerinfo.CommonPlayerInfo(player_id=row['id'])\n",
    "    df_info = info.get_data_frames()[0]\n",
    "    \n",
    "    print(n, datetime.utcnow().strftime('%Y-%m-%d %H:%M:%S.%f')[:-3])\n",
    "    df_team_player = df_team_player.append(df_info[['PERSON_ID','TEAM_ABBREVIATION']], ignore_index=True)\n",
    "\n",
    "df_team_player.to_csv('./Resources/team_player_api.csv')"
   ]
  },
  {
   "cell_type": "markdown",
   "metadata": {},
   "source": [
    "# Transform Team x Player Data "
   ]
  },
  {
   "cell_type": "code",
   "execution_count": null,
   "metadata": {},
   "outputs": [],
   "source": [
    "df_team_player['season_id'] = '2019-20'"
   ]
  },
  {
   "cell_type": "code",
   "execution_count": null,
   "metadata": {},
   "outputs": [],
   "source": [
    "new_df_team_player = df_team_player.rename(columns={'PERSON_ID': 'player_id', 'TEAM_ABBREVIATION': 'team_id'})\n",
    "new_df_team_player.head()"
   ]
  },
  {
   "cell_type": "code",
   "execution_count": null,
   "metadata": {},
   "outputs": [],
   "source": [
    "new_df_team_player.count()"
   ]
  },
  {
   "cell_type": "code",
   "execution_count": null,
   "metadata": {
    "scrolled": true
   },
   "outputs": [],
   "source": [
    "new_df_team_player[new_df_team_player['team_id'].isnull()]"
   ]
  },
  {
   "cell_type": "code",
   "execution_count": null,
   "metadata": {},
   "outputs": [],
   "source": [
    "new_df_team_player[new_df_team_player['team_id']==\"\"]"
   ]
  },
  {
   "cell_type": "code",
   "execution_count": null,
   "metadata": {},
   "outputs": [],
   "source": [
    "new_df_team_player = new_df_team_player[new_df_team_player['team_id']!=\"\"]"
   ]
  },
  {
   "cell_type": "code",
   "execution_count": null,
   "metadata": {},
   "outputs": [],
   "source": [
    "new_df_team_player.to_csv('./Resources/team_player_season.csv')"
   ]
  },
  {
   "cell_type": "markdown",
   "metadata": {},
   "source": [
    "# Transform Players Data"
   ]
  },
  {
   "cell_type": "code",
   "execution_count": null,
   "metadata": {},
   "outputs": [],
   "source": [
    "df_players.head()"
   ]
  },
  {
   "cell_type": "code",
   "execution_count": null,
   "metadata": {},
   "outputs": [],
   "source": [
    "df_players.count()"
   ]
  },
  {
   "cell_type": "code",
   "execution_count": null,
   "metadata": {},
   "outputs": [],
   "source": [
    "new_df_players = df_players.rename(columns={'id':'player_id', \n",
    "                                          'full_name':'full_name',\n",
    "                                          'first_name':'first_name',\n",
    "                                          'last_name':'last_name',\n",
    "                                          'is_active':'is_active'})"
   ]
  },
  {
   "cell_type": "code",
   "execution_count": null,
   "metadata": {
    "scrolled": true
   },
   "outputs": [],
   "source": [
    "new_df_players.head()"
   ]
  },
  {
   "cell_type": "markdown",
   "metadata": {},
   "source": [
    "# Transform Teams Data"
   ]
  },
  {
   "cell_type": "code",
   "execution_count": null,
   "metadata": {
    "scrolled": true
   },
   "outputs": [],
   "source": [
    "df_teams.head()"
   ]
  },
  {
   "cell_type": "code",
   "execution_count": null,
   "metadata": {},
   "outputs": [],
   "source": [
    "df_teams.count()"
   ]
  },
  {
   "cell_type": "code",
   "execution_count": null,
   "metadata": {},
   "outputs": [],
   "source": [
    "new_df_teams = df_teams.rename(columns={'id':'api_team_id', \n",
    "                                        'full_name':'full_name',\n",
    "                                        'abbreviation': 'team_id',\n",
    "                                        'nickname':'nickname',\n",
    "                                        'city':'city',\n",
    "                                        'state':'state',\n",
    "                                        'year_founded':'year_founded'})"
   ]
  },
  {
   "cell_type": "code",
   "execution_count": null,
   "metadata": {},
   "outputs": [],
   "source": [
    "new_df_teams.head()"
   ]
  },
  {
   "cell_type": "markdown",
   "metadata": {},
   "source": [
    "# Create database connection"
   ]
  },
  {
   "cell_type": "code",
   "execution_count": null,
   "metadata": {},
   "outputs": [],
   "source": [
    "rds_connection_string = \"postgres:root123@localhost:5433/NBA_DB\"\n",
    "engine = create_engine(f'postgresql://{rds_connection_string}')"
   ]
  },
  {
   "cell_type": "code",
   "execution_count": null,
   "metadata": {},
   "outputs": [],
   "source": [
    "# Confirm tables\n",
    "engine.table_names()"
   ]
  },
  {
   "cell_type": "markdown",
   "metadata": {},
   "source": [
    "# Load DataFrames into database"
   ]
  },
  {
   "cell_type": "code",
   "execution_count": null,
   "metadata": {},
   "outputs": [],
   "source": [
    "new_df_players.to_sql(name='player', con=engine, if_exists='append', index=False)"
   ]
  },
  {
   "cell_type": "code",
   "execution_count": null,
   "metadata": {},
   "outputs": [],
   "source": [
    "new_df_teams.to_sql(name='team', con=engine, if_exists='append', index=False)"
   ]
  },
  {
   "cell_type": "code",
   "execution_count": null,
   "metadata": {},
   "outputs": [],
   "source": [
    "new_df_team_player.to_sql(name='team_player', con=engine, if_exists='append', index=False)"
   ]
  },
  {
   "cell_type": "code",
   "execution_count": null,
   "metadata": {},
   "outputs": [],
   "source": []
  }
 ],
 "metadata": {
  "kernelspec": {
   "display_name": "Python 3",
   "language": "python",
   "name": "python3"
  },
  "language_info": {
   "codemirror_mode": {
    "name": "ipython",
    "version": 3
   },
   "file_extension": ".py",
   "mimetype": "text/x-python",
   "name": "python",
   "nbconvert_exporter": "python",
   "pygments_lexer": "ipython3",
   "version": "3.7.3"
  }
 },
 "nbformat": 4,
 "nbformat_minor": 2
}
